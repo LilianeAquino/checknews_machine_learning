{
 "cells": [
  {
   "cell_type": "markdown",
   "id": "93271ce6",
   "metadata": {},
   "source": [
    "# Checknews\n",
    "\n",
    "> Plataforma web para detecção de fake news"
   ]
  },
  {
   "cell_type": "markdown",
   "id": "317229a2",
   "metadata": {},
   "source": [
    "### Bibliotecas básicas e outros imports"
   ]
  },
  {
   "cell_type": "code",
   "execution_count": 1,
   "id": "22d7361c",
   "metadata": {
    "ExecuteTime": {
     "end_time": "2023-04-17T22:30:26.453710Z",
     "start_time": "2023-04-17T22:30:22.531802Z"
    }
   },
   "outputs": [
    {
     "name": "stderr",
     "output_type": "stream",
     "text": [
      "deepchecks - WARNING - You are using deepchecks version 0.12.0, however a newer version is available.Deepchecks is frequently updated with major improvements. You should consider upgrading via the \"python -m pip install --upgrade deepchecks\" command.\n"
     ]
    },
    {
     "name": "stdout",
     "output_type": "stream",
     "text": [
      "INFO: Pandarallel will run on 4 workers.\n",
      "INFO: Pandarallel will use Memory file system to transfer data between the main process and workers.\n"
     ]
    },
    {
     "name": "stderr",
     "output_type": "stream",
     "text": [
      "[nltk_data] Downloading package stopwords to\n",
      "[nltk_data]     /home/liliane_aquino/nltk_data...\n",
      "[nltk_data]   Package stopwords is already up-to-date!\n"
     ]
    }
   ],
   "source": [
    "\"\"\"\n",
    "    Bibliotecas básicas de DS\n",
    "\"\"\"\n",
    "import warnings\n",
    "import pandas as pd\n",
    "import numpy as np\n",
    "\n",
    "\n",
    "\"\"\"\n",
    " Bibliotecas para melhora da performance e análise do dataset\n",
    "\"\"\"\n",
    "import sidetable\n",
    "from pandarallel import pandarallel\n",
    "from deepchecks.tabular import Dataset\n",
    "from deepchecks.tabular.suites import data_integrity, train_test_validation\n",
    "\n",
    "\"\"\"\n",
    "    Bibliotecas de visualização de dados\n",
    "\"\"\"\n",
    "import matplotlib.pyplot as plt\n",
    "%matplotlib inline\n",
    "\n",
    "\"\"\"\n",
    "    Biblioteca MLOps\n",
    "\"\"\"\n",
    "import mlflow\n",
    "import mlflow.sklearn\n",
    "\n",
    "\"\"\"\n",
    "    Bibliotecas de ML\n",
    "\"\"\"\n",
    "from sklearn.svm import LinearSVC\n",
    "from xgboost import XGBClassifier\n",
    "from imblearn.pipeline import Pipeline\n",
    "from sklearn.tree import DecisionTreeClassifier\n",
    "from sklearn.naive_bayes import MultinomialNB\n",
    "from sklearn.ensemble import RandomForestClassifier\n",
    "from sklearn.neural_network import MLPClassifier\n",
    "from sklearn.feature_extraction.text import TfidfVectorizer\n",
    "from sklearn.compose import ColumnTransformer\n",
    "from sklearn.calibration import CalibratedClassifierCV\n",
    "from sklearn.metrics import classification_report, RocCurveDisplay, ConfusionMatrixDisplay, accuracy_score, recall_score, precision_score, f1_score, log_loss\n",
    "\n",
    "\"\"\"\n",
    "    Arquivo de pré-processamento\n",
    "\"\"\"\n",
    "%run modules/nlp/pre_processing/pre_processor.py\n",
    "%run modules/nlp/data_handler.py\n",
    "\n",
    "\"\"\"\n",
    "    Configurações básicas\n",
    "\"\"\"\n",
    "warnings.filterwarnings('ignore')\n",
    "pandarallel.initialize(progress_bar=True)\n",
    "\n",
    "pd.set_option('display.max_rows', 1000)\n",
    "pd.set_option('display.max_columns', 200)\n",
    "np.set_printoptions(suppress=True, precision=3)"
   ]
  },
  {
   "cell_type": "code",
   "execution_count": 2,
   "id": "1140c194",
   "metadata": {
    "ExecuteTime": {
     "end_time": "2023-04-17T22:30:26.458096Z",
     "start_time": "2023-04-17T22:30:26.455781Z"
    }
   },
   "outputs": [],
   "source": [
    "## A pessoa vai passar o link de uma página web e precisarei usar um scrapping \n",
    "# ou outro mecanismo para pegar o conteúdo de texto dessa página e passar para o classificador.\n",
    "\n",
    "#1. Pega a url e extrai o texto\n",
    "#2. Trata o texto extraido\n",
    "#3. Passa para o classificador\n",
    "#4. Retorna a classificação e confiança"
   ]
  },
  {
   "cell_type": "markdown",
   "id": "e924dcfc",
   "metadata": {},
   "source": [
    "### Dados para teste"
   ]
  },
  {
   "cell_type": "code",
   "execution_count": 3,
   "id": "a1f72fa7",
   "metadata": {
    "ExecuteTime": {
     "end_time": "2023-04-17T22:30:31.618186Z",
     "start_time": "2023-04-17T22:30:26.459604Z"
    }
   },
   "outputs": [
    {
     "name": "stdout",
     "output_type": "stream",
     "text": [
      "Linhas: 50672 | Coluna:  3\n"
     ]
    },
    {
     "data": {
      "text/html": [
       "<div>\n",
       "<style scoped>\n",
       "    .dataframe tbody tr th:only-of-type {\n",
       "        vertical-align: middle;\n",
       "    }\n",
       "\n",
       "    .dataframe tbody tr th {\n",
       "        vertical-align: top;\n",
       "    }\n",
       "\n",
       "    .dataframe thead th {\n",
       "        text-align: right;\n",
       "    }\n",
       "</style>\n",
       "<table border=\"1\" class=\"dataframe\">\n",
       "  <thead>\n",
       "    <tr style=\"text-align: right;\">\n",
       "      <th></th>\n",
       "      <th>text</th>\n",
       "      <th>origin</th>\n",
       "      <th>label</th>\n",
       "    </tr>\n",
       "  </thead>\n",
       "  <tbody>\n",
       "    <tr>\n",
       "      <th>0</th>\n",
       "      <td>— Steven (@superaielman) October 26, 2016 \\nEa...</td>\n",
       "      <td>sf4t9rfan</td>\n",
       "      <td>fake</td>\n",
       "    </tr>\n",
       "  </tbody>\n",
       "</table>\n",
       "</div>"
      ],
      "text/plain": [
       "                                                text     origin label\n",
       "0  — Steven (@superaielman) October 26, 2016 \\nEa...  sf4t9rfan  fake"
      ]
     },
     "execution_count": 3,
     "metadata": {},
     "output_type": "execute_result"
    }
   ],
   "source": [
    "df = pd.read_excel('data/data_fake_news_final.xlsx')\n",
    "df = df.iloc[np.random.permutation(df.index)].reset_index(drop=True)\n",
    "print(f'Linhas: {df.shape[0]} | Coluna:  {df.shape[1]}')\n",
    "df.head(1)"
   ]
  },
  {
   "cell_type": "markdown",
   "id": "7925d9d9",
   "metadata": {},
   "source": [
    "### Elimina colunas desnecessários e preenche nulos para origem"
   ]
  },
  {
   "cell_type": "code",
   "execution_count": 4,
   "id": "483b78d5",
   "metadata": {
    "ExecuteTime": {
     "end_time": "2023-04-17T22:30:31.627833Z",
     "start_time": "2023-04-17T22:30:31.620284Z"
    }
   },
   "outputs": [],
   "source": [
    "df['origin'].fillna('origem desconhecida', inplace=True)"
   ]
  },
  {
   "cell_type": "markdown",
   "id": "99405838",
   "metadata": {},
   "source": [
    "### Valores nulos"
   ]
  },
  {
   "cell_type": "code",
   "execution_count": 5,
   "id": "ccb6c3b6",
   "metadata": {
    "ExecuteTime": {
     "end_time": "2023-04-17T22:30:31.701187Z",
     "start_time": "2023-04-17T22:30:31.629783Z"
    }
   },
   "outputs": [
    {
     "data": {
      "text/html": [
       "<div>\n",
       "<style scoped>\n",
       "    .dataframe tbody tr th:only-of-type {\n",
       "        vertical-align: middle;\n",
       "    }\n",
       "\n",
       "    .dataframe tbody tr th {\n",
       "        vertical-align: top;\n",
       "    }\n",
       "\n",
       "    .dataframe thead th {\n",
       "        text-align: right;\n",
       "    }\n",
       "</style>\n",
       "<table border=\"1\" class=\"dataframe\">\n",
       "  <thead>\n",
       "    <tr style=\"text-align: right;\">\n",
       "      <th></th>\n",
       "      <th>missing</th>\n",
       "      <th>total</th>\n",
       "      <th>percent</th>\n",
       "    </tr>\n",
       "  </thead>\n",
       "  <tbody>\n",
       "    <tr>\n",
       "      <th>text</th>\n",
       "      <td>1</td>\n",
       "      <td>50672</td>\n",
       "      <td>0.001973</td>\n",
       "    </tr>\n",
       "    <tr>\n",
       "      <th>origin</th>\n",
       "      <td>0</td>\n",
       "      <td>50672</td>\n",
       "      <td>0.000000</td>\n",
       "    </tr>\n",
       "    <tr>\n",
       "      <th>label</th>\n",
       "      <td>0</td>\n",
       "      <td>50672</td>\n",
       "      <td>0.000000</td>\n",
       "    </tr>\n",
       "  </tbody>\n",
       "</table>\n",
       "</div>"
      ],
      "text/plain": [
       "        missing  total   percent\n",
       "text          1  50672  0.001973\n",
       "origin        0  50672  0.000000\n",
       "label         0  50672  0.000000"
      ]
     },
     "execution_count": 5,
     "metadata": {},
     "output_type": "execute_result"
    }
   ],
   "source": [
    "df.stb.missing()"
   ]
  },
  {
   "cell_type": "markdown",
   "id": "4d8eabc0",
   "metadata": {},
   "source": [
    "### Analisando a integridade dos dados"
   ]
  },
  {
   "cell_type": "code",
   "execution_count": 6,
   "id": "39882078",
   "metadata": {
    "ExecuteTime": {
     "end_time": "2023-04-17T22:30:57.984701Z",
     "start_time": "2023-04-17T22:30:31.703213Z"
    },
    "scrolled": false
   },
   "outputs": [
    {
     "name": "stderr",
     "output_type": "stream",
     "text": [
      "deepchecks - WARNING - It is recommended to initialize Dataset with categorical features by doing \"Dataset(df, cat_features=categorical_list)\". No categorical features were passed, therefore heuristically inferring categorical features in the data. 0 categorical features were inferred.\n"
     ]
    },
    {
     "data": {
      "text/html": [
       "\n",
       "    <style>\n",
       "        progress {\n",
       "            -webkit-appearance: none;\n",
       "            border: none;\n",
       "            border-radius: 3px;\n",
       "            width: 300px;\n",
       "            height: 20px;\n",
       "            vertical-align: middle;\n",
       "            margin-right: 10px;\n",
       "            background-color: aliceblue;\n",
       "        }\n",
       "        progress::-webkit-progress-bar {\n",
       "            border-radius: 3px;\n",
       "            background-color: aliceblue;\n",
       "        }\n",
       "        progress::-webkit-progress-value {\n",
       "            background-color: #9d60fb;\n",
       "        }\n",
       "        progress::-moz-progress-bar {\n",
       "            background-color: #9d60fb;\n",
       "        }\n",
       "    </style>\n",
       "    "
      ]
     },
     "metadata": {},
     "output_type": "display_data"
    },
    {
     "data": {
      "text/html": []
     },
     "metadata": {},
     "output_type": "display_data"
    },
    {
     "data": {
      "application/vnd.jupyter.widget-view+json": {
       "model_id": "5d316ceef9fb43ceb375b537d010e717",
       "version_major": 2,
       "version_minor": 0
      },
      "text/plain": [
       "Accordion(children=(VBox(children=(HTML(value='\\n<h1 id=\"summary_7OR8BWB7GRTH4VPZLOUX6G93Y\">Data Integrity Sui…"
      ]
     },
     "metadata": {},
     "output_type": "display_data"
    }
   ],
   "source": [
    "ds = Dataset(df, label='label')\n",
    "\n",
    "integ_suite = data_integrity()\n",
    "suite_result = integ_suite.run(ds)\n",
    "suite_result.show()"
   ]
  },
  {
   "cell_type": "markdown",
   "id": "1f42a6d4",
   "metadata": {},
   "source": [
    "### Pré-processamento"
   ]
  },
  {
   "cell_type": "code",
   "execution_count": 7,
   "id": "d2ab972e",
   "metadata": {
    "ExecuteTime": {
     "end_time": "2023-04-17T22:31:28.266904Z",
     "start_time": "2023-04-17T22:30:57.986124Z"
    }
   },
   "outputs": [
    {
     "data": {
      "application/vnd.jupyter.widget-view+json": {
       "model_id": "7828b800c31b4d2a83fbb126d2c160dd",
       "version_major": 2,
       "version_minor": 0
      },
      "text/plain": [
       "VBox(children=(HBox(children=(IntProgress(value=0, description='0.00%', max=12668), Label(value='0 / 12668')))…"
      ]
     },
     "metadata": {},
     "output_type": "display_data"
    },
    {
     "data": {
      "application/vnd.jupyter.widget-view+json": {
       "model_id": "9585ad4d7f4f488fb0956ab2aaeede00",
       "version_major": 2,
       "version_minor": 0
      },
      "text/plain": [
       "VBox(children=(HBox(children=(IntProgress(value=0, description='0.00%', max=12668), Label(value='0 / 12668')))…"
      ]
     },
     "metadata": {},
     "output_type": "display_data"
    },
    {
     "data": {
      "text/html": [
       "<div>\n",
       "<style scoped>\n",
       "    .dataframe tbody tr th:only-of-type {\n",
       "        vertical-align: middle;\n",
       "    }\n",
       "\n",
       "    .dataframe tbody tr th {\n",
       "        vertical-align: top;\n",
       "    }\n",
       "\n",
       "    .dataframe thead th {\n",
       "        text-align: right;\n",
       "    }\n",
       "</style>\n",
       "<table border=\"1\" class=\"dataframe\">\n",
       "  <thead>\n",
       "    <tr style=\"text-align: right;\">\n",
       "      <th></th>\n",
       "      <th>text</th>\n",
       "      <th>origin</th>\n",
       "      <th>label</th>\n",
       "    </tr>\n",
       "  </thead>\n",
       "  <tbody>\n",
       "    <tr>\n",
       "      <th>44174</th>\n",
       "      <td>linkTag the following information new and chil...</td>\n",
       "      <td>noreply@blogger.com alexander light</td>\n",
       "      <td>fake</td>\n",
       "    </tr>\n",
       "    <tr>\n",
       "      <th>25126</th>\n",
       "      <td>after acclaimed run the good wife comes end su...</td>\n",
       "      <td>lorne manly</td>\n",
       "      <td>verdadeira</td>\n",
       "    </tr>\n",
       "  </tbody>\n",
       "</table>\n",
       "</div>"
      ],
      "text/plain": [
       "                                                    text  \\\n",
       "44174  linkTag the following information new and chil...   \n",
       "25126  after acclaimed run the good wife comes end su...   \n",
       "\n",
       "                                    origin       label  \n",
       "44174  noreply@blogger.com alexander light        fake  \n",
       "25126                          lorne manly  verdadeira  "
      ]
     },
     "execution_count": 7,
     "metadata": {},
     "output_type": "execute_result"
    }
   ],
   "source": [
    "df['text'] = df['text'].parallel_apply(cleaning)\n",
    "df['origin'] = df['origin'].parallel_apply(prepareData)\n",
    "df.sample(2)"
   ]
  },
  {
   "cell_type": "markdown",
   "id": "6a41e4a1",
   "metadata": {},
   "source": [
    "### Remove dados duplicados"
   ]
  },
  {
   "cell_type": "code",
   "execution_count": 8,
   "id": "ea94582c",
   "metadata": {
    "ExecuteTime": {
     "end_time": "2023-04-17T22:31:28.576462Z",
     "start_time": "2023-04-17T22:31:28.268523Z"
    }
   },
   "outputs": [
    {
     "name": "stdout",
     "output_type": "stream",
     "text": [
      "Linhas: 50590 | Coluna:  3\n"
     ]
    }
   ],
   "source": [
    "df.drop_duplicates(subset=['text', 'origin'], inplace=True)\n",
    "print(f'Linhas: {df.shape[0]} | Coluna:  {df.shape[1]}')"
   ]
  },
  {
   "cell_type": "markdown",
   "id": "a4f27a27",
   "metadata": {},
   "source": [
    "### Balanceamento dos dados"
   ]
  },
  {
   "cell_type": "code",
   "execution_count": 9,
   "id": "f57a03b0",
   "metadata": {
    "ExecuteTime": {
     "end_time": "2023-04-17T22:31:28.584403Z",
     "start_time": "2023-04-17T22:31:28.577966Z"
    }
   },
   "outputs": [
    {
     "data": {
      "text/plain": [
       "fake          33896\n",
       "verdadeira    16694\n",
       "Name: label, dtype: int64"
      ]
     },
     "execution_count": 9,
     "metadata": {},
     "output_type": "execute_result"
    }
   ],
   "source": [
    "df['label'].value_counts()"
   ]
  },
  {
   "cell_type": "markdown",
   "id": "b67d1103",
   "metadata": {
    "ExecuteTime": {
     "end_time": "2023-02-15T17:06:07.777675Z",
     "start_time": "2023-02-15T17:06:07.774388Z"
    }
   },
   "source": [
    "### Seleção das classes"
   ]
  },
  {
   "cell_type": "code",
   "execution_count": 10,
   "id": "43372621",
   "metadata": {
    "ExecuteTime": {
     "end_time": "2023-04-17T22:31:28.632072Z",
     "start_time": "2023-04-17T22:31:28.587972Z"
    },
    "scrolled": true
   },
   "outputs": [
    {
     "data": {
      "text/plain": [
       "fake          16693\n",
       "verdadeira    16693\n",
       "Name: label, dtype: int64"
      ]
     },
     "execution_count": 10,
     "metadata": {},
     "output_type": "execute_result"
    }
   ],
   "source": [
    "min_class_count = 16693\n",
    "df_filtered = df.groupby('label').apply(lambda x: x.sample(min_class_count)).reset_index(drop=True)\n",
    "df_filtered['label'].value_counts()"
   ]
  },
  {
   "cell_type": "markdown",
   "id": "6ad11728",
   "metadata": {
    "ExecuteTime": {
     "end_time": "2023-02-08T16:27:44.874520Z",
     "start_time": "2023-02-08T16:27:44.871530Z"
    }
   },
   "source": [
    "### Encoder dos dados"
   ]
  },
  {
   "cell_type": "code",
   "execution_count": 11,
   "id": "c71bcfff",
   "metadata": {
    "ExecuteTime": {
     "end_time": "2023-04-17T22:31:28.645612Z",
     "start_time": "2023-04-17T22:31:28.634241Z"
    }
   },
   "outputs": [],
   "source": [
    "y = labelEncoder(df_filtered['label'])"
   ]
  },
  {
   "cell_type": "markdown",
   "id": "95995612",
   "metadata": {},
   "source": [
    "### Divisão base"
   ]
  },
  {
   "cell_type": "code",
   "execution_count": 12,
   "id": "e3395e0c",
   "metadata": {
    "ExecuteTime": {
     "end_time": "2023-04-17T22:31:28.678723Z",
     "start_time": "2023-04-17T22:31:28.648712Z"
    }
   },
   "outputs": [],
   "source": [
    "df_filtered.drop(['label'], axis=1, inplace=True)\n",
    "X_train, X_test, y_train, y_test = kFoldSplitTrainTest(df_filtered,\n",
    "                                                       y,\n",
    "                                                       ['text', 'origin'])"
   ]
  },
  {
   "cell_type": "markdown",
   "id": "3acda51a",
   "metadata": {},
   "source": [
    "### Validando os dados de treino e testes"
   ]
  },
  {
   "cell_type": "code",
   "execution_count": 13,
   "id": "59896960",
   "metadata": {
    "ExecuteTime": {
     "end_time": "2023-04-17T22:31:39.322169Z",
     "start_time": "2023-04-17T22:31:28.680149Z"
    }
   },
   "outputs": [
    {
     "data": {
      "text/html": [
       "\n",
       "    <style>\n",
       "        progress {\n",
       "            -webkit-appearance: none;\n",
       "            border: none;\n",
       "            border-radius: 3px;\n",
       "            width: 300px;\n",
       "            height: 20px;\n",
       "            vertical-align: middle;\n",
       "            margin-right: 10px;\n",
       "            background-color: aliceblue;\n",
       "        }\n",
       "        progress::-webkit-progress-bar {\n",
       "            border-radius: 3px;\n",
       "            background-color: aliceblue;\n",
       "        }\n",
       "        progress::-webkit-progress-value {\n",
       "            background-color: #9d60fb;\n",
       "        }\n",
       "        progress::-moz-progress-bar {\n",
       "            background-color: #9d60fb;\n",
       "        }\n",
       "    </style>\n",
       "    "
      ]
     },
     "metadata": {},
     "output_type": "display_data"
    },
    {
     "data": {
      "text/html": []
     },
     "metadata": {},
     "output_type": "display_data"
    },
    {
     "data": {
      "application/vnd.jupyter.widget-view+json": {
       "model_id": "0467fa950e9e4aabbeda84e83954f1dd",
       "version_major": 2,
       "version_minor": 0
      },
      "text/plain": [
       "Accordion(children=(VBox(children=(HTML(value='\\n<h1 id=\"summary_FDOJENGD3W816L4CGLJCU6LB2\">Train Test Validat…"
      ]
     },
     "metadata": {},
     "output_type": "display_data"
    }
   ],
   "source": [
    "train_ds = Dataset(X_train.reset_index(drop=True), label=y_train, cat_features=[])\n",
    "test_ds = Dataset(X_test.reset_index(drop=True), label=y_test, cat_features=[])\n",
    "\n",
    "validation_suite = train_test_validation()\n",
    "suite_result = validation_suite.run(train_ds, test_ds)\n",
    "suite_result"
   ]
  },
  {
   "cell_type": "markdown",
   "id": "26b285db",
   "metadata": {},
   "source": [
    "### MLOPS"
   ]
  },
  {
   "cell_type": "code",
   "execution_count": 14,
   "id": "eb670fcd",
   "metadata": {
    "ExecuteTime": {
     "end_time": "2023-04-17T22:31:39.327294Z",
     "start_time": "2023-04-17T22:31:39.325065Z"
    }
   },
   "outputs": [],
   "source": [
    "dataset = 'data_fake_news_final.xlsx'\n",
    "version = 'v1'\n",
    "title = 'experimentos_checknews'"
   ]
  },
  {
   "cell_type": "markdown",
   "id": "25524584",
   "metadata": {},
   "source": [
    "#### Decision tree"
   ]
  },
  {
   "cell_type": "code",
   "execution_count": 15,
   "id": "3c9916f9",
   "metadata": {
    "ExecuteTime": {
     "end_time": "2023-04-17T22:33:24.188190Z",
     "start_time": "2023-04-17T22:31:39.328554Z"
    }
   },
   "outputs": [
    {
     "name": "stderr",
     "output_type": "stream",
     "text": [
      "2023/04/17 19:31:39 INFO mlflow.tracking.fluent: Experiment with name 'experimentos_checknews' does not exist. Creating a new experiment.\n"
     ]
    },
    {
     "name": "stdout",
     "output_type": "stream",
     "text": [
      "              precision    recall  f1-score   support\n",
      "\n",
      "        fake       0.88      0.88      0.88      3338\n",
      "  verdadeira       0.88      0.88      0.88      3339\n",
      "\n",
      "    accuracy                           0.88      6677\n",
      "   macro avg       0.88      0.88      0.88      6677\n",
      "weighted avg       0.88      0.88      0.88      6677\n",
      "\n",
      "Modelo:  0bdea86933d4463099d7422b5eca5980\n"
     ]
    },
    {
     "data": {
      "image/png": "[encoded data removed]",
      "text/plain": [
       "<Figure size 1000x500 with 2 Axes>"
      ]
     },
     "metadata": {},
     "output_type": "display_data"
    },
    {
     "data": {
      "image/png": "[encoded data removed]",
      "text/plain": [
       "<Figure size 1000x500 with 1 Axes>"
      ]
     },
     "metadata": {},
     "output_type": "display_data"
    }
   ],
   "source": [
    "mlflow.set_experiment(title)\n",
    "with mlflow.start_run(run_name='DecisionTreeClassifier'):\n",
    "    mlflow.set_tags({'dataset': dataset, 'version': version})\n",
    "    \n",
    "    column_transformer = ColumnTransformer([\n",
    "        ('vectorizer_col1', TfidfVectorizer(stop_words = STOPWORDS, lowercase = False), 0),\n",
    "        ('vectorizer_col2', TfidfVectorizer(stop_words = STOPWORDS, lowercase = False), 1),\n",
    "    ])\n",
    "\n",
    "    criterion = 'gini'\n",
    "    splitter = 'random'\n",
    "\n",
    "    dt_classifier_pipeline = Pipeline([\n",
    "        ('vectorizer', column_transformer),\n",
    "        ('clf', CalibratedClassifierCV(DecisionTreeClassifier(criterion=criterion, splitter=splitter), method='isotonic', cv=5))\n",
    "    ])\n",
    "\n",
    "    mlflow.log_param('criterion', criterion)\n",
    "    mlflow.log_param('splitter', splitter)\n",
    "\n",
    "\n",
    "    dt_classifier_pipeline.fit(X_train.values, y_train)\n",
    "    y_pred = dt_classifier_pipeline.predict(X_test)\n",
    "    y_prob = dt_classifier_pipeline.predict_proba(X_test)\n",
    "\n",
    "    accuracy, recall, precision, f1, log, auc = getMetrics(y_test, y_pred, y_prob)\n",
    "\n",
    "    mlflow.log_metric('acuracia', accuracy)\n",
    "    mlflow.log_metric('recall', recall)\n",
    "    mlflow.log_metric('precisão', precision)\n",
    "    mlflow.log_metric('f1', f1)\n",
    "    mlflow.log_metric('log', log)\n",
    "    mlflow.log_metric('auc', auc)\n",
    "    \n",
    "    confusionMatrix('Matriz de confusão', dt_classifier_pipeline, X_test, y_test, y.classes)\n",
    "    plt.savefig('img/matriz_classifier_dt.png')\n",
    "\n",
    "    print(getClassificationReport(y_test, y_pred, y.classes))\n",
    "    \n",
    "    curvaRoc('DecisionTreeClassifier', y_test, y_pred, auc)\n",
    "    plt.savefig('img/curva_roc_dt.png')\n",
    "\n",
    "    mlflow.log_artifact(local_path='img/matriz_classifier_dt.png', artifact_path='img')\n",
    "    mlflow.log_artifact(local_path='data/'+dataset, artifact_path='data')\n",
    "    mlflow.log_artifact(local_path='img/curva_roc_dt.png', artifact_path='img')\n",
    "    mlflow.sklearn.log_model(dt_classifier_pipeline, 'model_dt')\n",
    "    print('Modelo: ', mlflow.active_run().info.run_uuid)"
   ]
  },
  {
   "cell_type": "markdown",
   "id": "319697b6",
   "metadata": {},
   "source": [
    "#### SVC"
   ]
  },
  {
   "cell_type": "code",
   "execution_count": 16,
   "id": "ebcd1ca7",
   "metadata": {
    "ExecuteTime": {
     "end_time": "2023-04-17T22:33:40.389115Z",
     "start_time": "2023-04-17T22:33:24.190328Z"
    }
   },
   "outputs": [
    {
     "name": "stdout",
     "output_type": "stream",
     "text": [
      "              precision    recall  f1-score   support\n",
      "\n",
      "        fake       0.90      0.94      0.92      3338\n",
      "  verdadeira       0.94      0.89      0.92      3339\n",
      "\n",
      "    accuracy                           0.92      6677\n",
      "   macro avg       0.92      0.92      0.92      6677\n",
      "weighted avg       0.92      0.92      0.92      6677\n",
      "\n",
      "Modelo:  3abec0040fc24bcda94009d44e533fbb\n"
     ]
    },
    {
     "data": {
      "image/png": "[encoded data removed]",
      "text/plain": [
       "<Figure size 1000x500 with 2 Axes>"
      ]
     },
     "metadata": {},
     "output_type": "display_data"
    },
    {
     "data": {
      "image/png": "[encoded data removed]",
      "text/plain": [
       "<Figure size 1000x500 with 1 Axes>"
      ]
     },
     "metadata": {},
     "output_type": "display_data"
    }
   ],
   "source": [
    "mlflow.set_experiment(title)\n",
    "with mlflow.start_run(run_name='LinearSVC'):\n",
    "    mlflow.set_tags({'dataset': dataset, 'version': version})\n",
    "\n",
    "    column_transformer = ColumnTransformer([\n",
    "        ('vectorizer_col1', TfidfVectorizer(stop_words = STOPWORDS, lowercase = False), 0),\n",
    "        ('vectorizer_col2', TfidfVectorizer(stop_words = STOPWORDS, lowercase = False), 1),\n",
    "    ])\n",
    "\n",
    "    penalty = 'l2'\n",
    "    loss = 'squared_hinge'\n",
    "\n",
    "    svc_classifier_pipeline = Pipeline([\n",
    "        ('vectorizer', column_transformer),\n",
    "        ('clf', CalibratedClassifierCV(LinearSVC(penalty=penalty, loss=loss), method='isotonic', cv=5))\n",
    "    ])\n",
    "\n",
    "    mlflow.log_param('penalty', penalty)\n",
    "    mlflow.log_param('loss', loss)\n",
    "\n",
    "    svc_classifier_pipeline.fit(X_train.values, y_train)\n",
    "    y_pred = svc_classifier_pipeline.predict(X_test)\n",
    "    y_prob = svc_classifier_pipeline.predict_proba(X_test)\n",
    "\n",
    "    accuracy, recall, precision, f1, log, auc = getMetrics(y_test, y_pred, y_prob)\n",
    "\n",
    "    mlflow.log_metric('acuracia', accuracy)\n",
    "    mlflow.log_metric('recall', recall)\n",
    "    mlflow.log_metric('precisão', precision)\n",
    "    mlflow.log_metric('f1', f1)\n",
    "    mlflow.log_metric('log', log)\n",
    "    mlflow.log_metric('auc', auc)\n",
    "\n",
    "    confusionMatrix('Matriz de confusão', svc_classifier_pipeline, X_test, y_test, y.classes)\n",
    "    plt.savefig('img/matriz_classifier_svc.png')\n",
    "\n",
    "    print(getClassificationReport(y_test, y_pred, y.classes))\n",
    "    \n",
    "    curvaRoc('LinearSVC', y_test, y_pred, auc)\n",
    "    plt.savefig('img/curva_roc_svc.png')\n",
    "\n",
    "    mlflow.log_artifact(local_path='img/matriz_classifier_svc.png', artifact_path='img')\n",
    "    mlflow.log_artifact(local_path='data/'+dataset, artifact_path='data')\n",
    "    mlflow.log_artifact(local_path='img/curva_roc_svc.png', artifact_path='img')\n",
    "    mlflow.sklearn.log_model(svc_classifier_pipeline, 'model_svc')\n",
    "    print('Modelo: ', mlflow.active_run().info.run_uuid)"
   ]
  },
  {
   "cell_type": "markdown",
   "id": "b54fedb0",
   "metadata": {},
   "source": [
    "#### Naive Bayes"
   ]
  },
  {
   "cell_type": "code",
   "execution_count": 17,
   "id": "7c060362",
   "metadata": {
    "ExecuteTime": {
     "end_time": "2023-04-17T22:33:53.700901Z",
     "start_time": "2023-04-17T22:33:40.390978Z"
    }
   },
   "outputs": [
    {
     "name": "stdout",
     "output_type": "stream",
     "text": [
      "              precision    recall  f1-score   support\n",
      "\n",
      "        fake       0.80      0.94      0.86      3338\n",
      "  verdadeira       0.93      0.76      0.84      3339\n",
      "\n",
      "    accuracy                           0.85      6677\n",
      "   macro avg       0.86      0.85      0.85      6677\n",
      "weighted avg       0.86      0.85      0.85      6677\n",
      "\n",
      "Modelo:  556a767c2e92400c91647db459ad183a\n"
     ]
    },
    {
     "data": {
      "image/png": "[encoded data removed]",
      "text/plain": [
       "<Figure size 1000x500 with 2 Axes>"
      ]
     },
     "metadata": {},
     "output_type": "display_data"
    },
    {
     "data": {
      "image/png": "[encoded data removed]",
      "text/plain": [
       "<Figure size 1000x500 with 1 Axes>"
      ]
     },
     "metadata": {},
     "output_type": "display_data"
    }
   ],
   "source": [
    "mlflow.set_experiment(title)\n",
    "with mlflow.start_run(run_name='MultinomialNB'):\n",
    "    mlflow.set_tags({'dataset': dataset, 'version': version})\n",
    "\n",
    "    column_transformer = ColumnTransformer([\n",
    "        ('vectorizer_col1', TfidfVectorizer(stop_words = STOPWORDS, lowercase = False), 0),\n",
    "        ('vectorizer_col2', TfidfVectorizer(stop_words = STOPWORDS, lowercase = False), 1),\n",
    "    ])\n",
    "\n",
    "    alpha = 1.0\n",
    "    force_alpha = 'warn'\n",
    "\n",
    "    nb_classifier_pipeline = Pipeline([\n",
    "        ('vectorizer', column_transformer),\n",
    "        ('clf', CalibratedClassifierCV(MultinomialNB(alpha=alpha, force_alpha=force_alpha), method='isotonic', cv=5))\n",
    "    ])\n",
    "\n",
    "    mlflow.log_param('alpha', alpha)\n",
    "    mlflow.log_param('force_alpha', force_alpha)\n",
    "\n",
    "    nb_classifier_pipeline.fit(X_train.values, y_train)\n",
    "    y_pred = nb_classifier_pipeline.predict(X_test)\n",
    "    y_prob = nb_classifier_pipeline.predict_proba(X_test)\n",
    "\n",
    "    accuracy, recall, precision, f1, log, auc = getMetrics(y_test, y_pred, y_prob)\n",
    "\n",
    "    mlflow.log_metric('acuracia', accuracy)\n",
    "    mlflow.log_metric('recall', recall)\n",
    "    mlflow.log_metric('precisão', precision)\n",
    "    mlflow.log_metric('f1', f1)\n",
    "    mlflow.log_metric('log', log)\n",
    "    mlflow.log_metric('auc', auc)\n",
    "\n",
    "    confusionMatrix('Matriz de confusão', nb_classifier_pipeline, X_test, y_test, y.classes)\n",
    "    plt.savefig('img/matriz_classifier_nb.png')\n",
    "\n",
    "    print(getClassificationReport(y_test, y_pred, y.classes))\n",
    "    \n",
    "    curvaRoc('MultinomialNB', y_test, y_pred, auc)\n",
    "    plt.savefig('img/curva_roc_nb.png')\n",
    "\n",
    "    mlflow.log_artifact(local_path='img/matriz_classifier_nb.png', artifact_path='img')\n",
    "    mlflow.log_artifact(local_path='data/'+dataset, artifact_path='data')\n",
    "    mlflow.log_artifact(local_path='img/curva_roc_nb.png', artifact_path='img')\n",
    "    mlflow.sklearn.log_model(nb_classifier_pipeline, 'model_nb')\n",
    "    print('Modelo: ', mlflow.active_run().info.run_uuid)"
   ]
  },
  {
   "cell_type": "markdown",
   "id": "f8865dff",
   "metadata": {},
   "source": [
    "#### Random Forest"
   ]
  },
  {
   "cell_type": "code",
   "execution_count": null,
   "id": "a712a72c",
   "metadata": {
    "ExecuteTime": {
     "start_time": "2023-04-17T22:30:23.001Z"
    }
   },
   "outputs": [],
   "source": [
    "mlflow.set_experiment(title)\n",
    "with mlflow.start_run(run_name='RandomForestClassifier'):\n",
    "    mlflow.set_tags({'dataset': dataset, 'version': version })\n",
    "    \n",
    "    column_transformer = ColumnTransformer([\n",
    "        ('vectorizer_col1', TfidfVectorizer(stop_words = STOPWORDS, lowercase = False), 0),\n",
    "        ('vectorizer_col2', TfidfVectorizer(stop_words = STOPWORDS, lowercase = False), 1),\n",
    "    ])\n",
    "\n",
    "    n_estimators = 300\n",
    "    criterion = 'entropy'\n",
    "\n",
    "    rf_classifier_pipeline = Pipeline([\n",
    "        ('vectorizer', column_transformer),\n",
    "        ('clf', CalibratedClassifierCV(RandomForestClassifier(n_estimators=n_estimators, criterion=criterion), method='isotonic', cv=5))\n",
    "    ])\n",
    "\n",
    "    mlflow.log_param('n_estimators', n_estimators)\n",
    "    mlflow.log_param('criterion', criterion)\n",
    "\n",
    "    rf_classifier_pipeline.fit(X_train.values, y_train)\n",
    "    y_pred = rf_classifier_pipeline.predict(X_test)\n",
    "    y_prob = rf_classifier_pipeline.predict_proba(X_test)\n",
    "\n",
    "    accuracy, recall, precision, f1, log, auc = getMetrics(y_test, y_pred, y_prob)\n",
    "\n",
    "    mlflow.log_metric('acuracia', accuracy)\n",
    "    mlflow.log_metric('recall', recall)\n",
    "    mlflow.log_metric('precisão', precision)\n",
    "    mlflow.log_metric('f1', f1)\n",
    "    mlflow.log_metric('log', log)\n",
    "    mlflow.log_metric('auc', auc)\n",
    "\n",
    "    confusionMatrix('Matriz de confusão', rf_classifier_pipeline, X_test, y_test, y.classes)\n",
    "    plt.savefig('img/matriz_classifier_rf.png')\n",
    "\n",
    "    print(getClassificationReport(y_test, y_pred, y.classes))\n",
    "\n",
    "    curvaRoc('RandomForestClassifier', y_test, y_pred, auc)\n",
    "    plt.savefig('img/curva_roc_rf.png')\n",
    "\n",
    "    mlflow.log_artifact(local_path='img/matriz_classifier_rf.png', artifact_path='img')\n",
    "    mlflow.log_artifact(local_path='data/'+dataset, artifact_path='data')\n",
    "    mlflow.log_artifact(local_path='img/curva_roc_rf.png', artifact_path='img')\n",
    "    mlflow.sklearn.log_model(rf_classifier_pipeline, 'model_rf')\n",
    "    print('Modelo: ', mlflow.active_run().info.run_uuid)"
   ]
  },
  {
   "cell_type": "markdown",
   "id": "0bbbc131",
   "metadata": {},
   "source": [
    "#### MLP"
   ]
  },
  {
   "cell_type": "code",
   "execution_count": null,
   "id": "3e51242f",
   "metadata": {
    "ExecuteTime": {
     "start_time": "2023-04-17T22:30:23.035Z"
    }
   },
   "outputs": [],
   "source": [
    "mlflow.set_experiment(title)\n",
    "with mlflow.start_run(run_name='MLPClassifier'):\n",
    "    mlflow.set_tags({'dataset': dataset, 'version': version })\n",
    "    \n",
    "    column_transformer = ColumnTransformer([\n",
    "        ('vectorizer_col1', TfidfVectorizer(stop_words = STOPWORDS, lowercase = False), 0),\n",
    "        ('vectorizer_col2', TfidfVectorizer(stop_words = STOPWORDS, lowercase = False), 1),\n",
    "    ])\n",
    "\n",
    "    hidden_layer_sizes = (100, 64, 32)\n",
    "    max_iter = 1000\n",
    "\n",
    "    mlp_classifier_pipeline = Pipeline([\n",
    "        ('vectorizer', column_transformer),\n",
    "        ('clf', CalibratedClassifierCV(MLPClassifier(hidden_layer_sizes=hidden_layer_sizes, max_iter=max_iter, verbose=False), method='isotonic', cv=5))\n",
    "    ])\n",
    "\n",
    "    mlflow.log_param('hidden_layer_sizes', hidden_layer_sizes)\n",
    "    mlflow.log_param('max_iter', max_iter)\n",
    "\n",
    "    mlp_classifier_pipeline.fit(X_train.values, y_train)\n",
    "    y_pred = mlp_classifier_pipeline.predict(X_test)\n",
    "    y_prob = mlp_classifier_pipeline.predict_proba(X_test)\n",
    "\n",
    "    accuracy, recall, precision, f1, log, auc = getMetrics(y_test, y_pred, y_prob)\n",
    "\n",
    "    mlflow.log_metric('acuracia', accuracy)\n",
    "    mlflow.log_metric('recall', recall)\n",
    "    mlflow.log_metric('precisão', precision)\n",
    "    mlflow.log_metric('f1', f1)\n",
    "    mlflow.log_metric('log', log)\n",
    "    mlflow.log_metric('auc', auc)\n",
    "\n",
    "    confusionMatrix('Matriz de confusão', mlp_classifier_pipeline, X_test, y_test, y.classes)\n",
    "    plt.savefig('img/matriz_classifier_mlp.png')\n",
    "\n",
    "    print(getClassificationReport(y_test, y_pred, y.classes))\n",
    "\n",
    "    curvaRoc('MLPClassifier', y_test, y_pred, auc)\n",
    "    plt.savefig('img/curva_roc_mlp.png')\n",
    "\n",
    "    mlflow.log_artifact(local_path='img/matriz_classifier_mlp.png', artifact_path='img')\n",
    "    mlflow.log_artifact(local_path='data/'+dataset, artifact_path='data')\n",
    "    mlflow.log_artifact(local_path='img/curva_roc_mlp.png', artifact_path='img')\n",
    "    mlflow.sklearn.log_model(mlp_classifier_pipeline, 'model_mlp')\n",
    "    print('Modelo: ', mlflow.active_run().info.run_uuid)"
   ]
  },
  {
   "cell_type": "markdown",
   "id": "a782a04e",
   "metadata": {},
   "source": [
    "#### XGBC"
   ]
  },
  {
   "cell_type": "code",
   "execution_count": null,
   "id": "feb29cef",
   "metadata": {
    "ExecuteTime": {
     "start_time": "2023-04-17T22:30:23.065Z"
    }
   },
   "outputs": [],
   "source": [
    "mlflow.set_experiment(title)\n",
    "with mlflow.start_run(run_name='XGBClassifier'):\n",
    "    mlflow.set_tags({'dataset': dataset, 'version': version })\n",
    "    \n",
    "    column_transformer = ColumnTransformer([\n",
    "        ('vectorizer_col1', TfidfVectorizer(stop_words = STOPWORDS, lowercase = False), 0),\n",
    "        ('vectorizer_col2', TfidfVectorizer(stop_words = STOPWORDS, lowercase = False), 1),\n",
    "    ])\n",
    "\n",
    "    learning_rate = 0.5\n",
    "    max_depth = 4\n",
    "    min_child_weight = 8\n",
    "    nthread = 1\n",
    "    subsample = 0.8\n",
    "\n",
    "    xgbc_classifier_pipeline = Pipeline([\n",
    "        ('vectorizer', column_transformer),\n",
    "        ('clf', CalibratedClassifierCV(XGBClassifier(learning_rate=learning_rate,\n",
    "                                                     max_depth=max_depth,\n",
    "                                                     min_child_weight=min_child_weight,\n",
    "                                                     nthread=nthread,\n",
    "                                                     subsample=subsample), method='isotonic', cv=5))\n",
    "    ])\n",
    "\n",
    "    mlflow.log_param('learning_rate', learning_rate)\n",
    "    mlflow.log_param('max_depth', max_depth)\n",
    "    mlflow.log_param('min_child_weight', min_child_weight)\n",
    "    mlflow.log_param('nthread', nthread)\n",
    "    mlflow.log_param('subsample', subsample)\n",
    "\n",
    "    xgbc_classifier_pipeline.fit(X_train.values, y_train)\n",
    "    y_pred = xgbc_classifier_pipeline.predict(X_test)\n",
    "    y_prob = xgbc_classifier_pipeline.predict_proba(X_test)\n",
    "\n",
    "    accuracy, recall, precision, f1, log, auc = getMetrics(y_test, y_pred, y_prob)\n",
    "\n",
    "    mlflow.log_metric('acuracia', accuracy)\n",
    "    mlflow.log_metric('recall', recall)\n",
    "    mlflow.log_metric('precisão', precision)\n",
    "    mlflow.log_metric('f1', f1)\n",
    "    mlflow.log_metric('log', log)\n",
    "    mlflow.log_metric('auc', auc)\n",
    "\n",
    "    confusionMatrix('Matriz de confusão', xgbc_classifier_pipeline, X_test, y_test, y.classes)\n",
    "    plt.savefig('img/matriz_classifier_xgbc.png')\n",
    "    \n",
    "    print(getClassificationReport(y_test, y_pred, y.classes))\n",
    "\n",
    "    curvaRoc('XGBClassifier', y_test, y_pred, auc)\n",
    "    plt.savefig('img/curva_roc_xgbc.png')\n",
    "\n",
    "    mlflow.log_artifact(local_path='img/matriz_classifier_xgbc.png', artifact_path='img')\n",
    "    mlflow.log_artifact(local_path='data/'+dataset, artifact_path='data')\n",
    "    mlflow.log_artifact(local_path='img/curva_roc_xgbc.png', artifact_path='img')\n",
    "    mlflow.sklearn.log_model(xgbc_classifier_pipeline, 'model_mlp')\n",
    "    print('Modelo: ', mlflow.active_run().info.run_uuid)"
   ]
  },
  {
   "cell_type": "markdown",
   "id": "c329f258",
   "metadata": {},
   "source": [
    "### Salva o melhor modelo"
   ]
  },
  {
   "cell_type": "code",
   "execution_count": null,
   "id": "c7db44a2",
   "metadata": {
    "ExecuteTime": {
     "start_time": "2023-04-17T22:30:23.092Z"
    }
   },
   "outputs": [],
   "source": [
    "# model = \n",
    "# persistModel(model, y.label_encoder, 'classifier_model', data_model)"
   ]
  }
 ],
 "metadata": {
  "hide_input": false,
  "kernelspec": {
   "display_name": "Python 3 (ipykernel)",
   "language": "python",
   "name": "python3"
  },
  "language_info": {
   "codemirror_mode": {
    "name": "ipython",
    "version": 3
   },
   "file_extension": ".py",
   "mimetype": "text/x-python",
   "name": "python",
   "nbconvert_exporter": "python",
   "pygments_lexer": "ipython3",
   "version": "3.8.10"
  },
  "nbTranslate": {
   "displayLangs": [
    "*"
   ],
   "hotkey": "alt-t",
   "langInMainMenu": true,
   "sourceLang": "en",
   "targetLang": "fr",
   "useGoogleTranslate": true
  },
  "toc": {
   "base_numbering": 1,
   "nav_menu": {},
   "number_sections": true,
   "sideBar": true,
   "skip_h1_title": false,
   "title_cell": "Table of Contents",
   "title_sidebar": "Contents",
   "toc_cell": false,
   "toc_position": {},
   "toc_section_display": true,
   "toc_window_display": false
  },
  "varInspector": {
   "cols": {
    "lenName": 16,
    "lenType": 16,
    "lenVar": 40
   },
   "kernels_config": {
    "python": {
     "delete_cmd_postfix": "",
     "delete_cmd_prefix": "del ",
     "library": "var_list.py",
     "varRefreshCmd": "print(var_dic_list())"
    },
    "r": {
     "delete_cmd_postfix": ") ",
     "delete_cmd_prefix": "rm(",
     "library": "var_list.r",
     "varRefreshCmd": "cat(var_dic_list()) "
    }
   },
   "types_to_exclude": [
    "module",
    "function",
    "builtin_function_or_method",
    "instance",
    "_Feature"
   ],
   "window_display": false
  }
 },
 "nbformat": 4,
 "nbformat_minor": 5
}
